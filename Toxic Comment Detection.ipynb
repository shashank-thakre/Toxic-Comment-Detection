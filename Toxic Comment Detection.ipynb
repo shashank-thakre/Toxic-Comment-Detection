{
 "cells": [
  {
   "cell_type": "code",
   "execution_count": 1,
   "metadata": {},
   "outputs": [],
   "source": [
    "# Imports\n",
    "%matplotlib inline\n",
    "import numpy as np\n",
    "import pandas as pd\n",
    "import pickle\n",
    "from sklearn.preprocessing import LabelEncoder\n",
    "from sklearn.model_selection import train_test_split"
   ]
  },
  {
   "cell_type": "code",
   "execution_count": 2,
   "metadata": {},
   "outputs": [
    {
     "data": {
      "text/html": [
       "<div>\n",
       "<style scoped>\n",
       "    .dataframe tbody tr th:only-of-type {\n",
       "        vertical-align: middle;\n",
       "    }\n",
       "\n",
       "    .dataframe tbody tr th {\n",
       "        vertical-align: top;\n",
       "    }\n",
       "\n",
       "    .dataframe thead th {\n",
       "        text-align: right;\n",
       "    }\n",
       "</style>\n",
       "<table border=\"1\" class=\"dataframe\">\n",
       "  <thead>\n",
       "    <tr style=\"text-align: right;\">\n",
       "      <th></th>\n",
       "      <th>comment_text</th>\n",
       "      <th>toxic</th>\n",
       "      <th>severe_toxic</th>\n",
       "      <th>obscene</th>\n",
       "      <th>threat</th>\n",
       "      <th>insult</th>\n",
       "      <th>identity_hate</th>\n",
       "    </tr>\n",
       "    <tr>\n",
       "      <th>id</th>\n",
       "      <th></th>\n",
       "      <th></th>\n",
       "      <th></th>\n",
       "      <th></th>\n",
       "      <th></th>\n",
       "      <th></th>\n",
       "      <th></th>\n",
       "    </tr>\n",
       "  </thead>\n",
       "  <tbody>\n",
       "    <tr>\n",
       "      <th>0000997932d777bf</th>\n",
       "      <td>Explanation\\nWhy the edits made under my usern...</td>\n",
       "      <td>0</td>\n",
       "      <td>0</td>\n",
       "      <td>0</td>\n",
       "      <td>0</td>\n",
       "      <td>0</td>\n",
       "      <td>0</td>\n",
       "    </tr>\n",
       "    <tr>\n",
       "      <th>000103f0d9cfb60f</th>\n",
       "      <td>D'aww! He matches this background colour I'm s...</td>\n",
       "      <td>0</td>\n",
       "      <td>0</td>\n",
       "      <td>0</td>\n",
       "      <td>0</td>\n",
       "      <td>0</td>\n",
       "      <td>0</td>\n",
       "    </tr>\n",
       "    <tr>\n",
       "      <th>000113f07ec002fd</th>\n",
       "      <td>Hey man, I'm really not trying to edit war. It...</td>\n",
       "      <td>0</td>\n",
       "      <td>0</td>\n",
       "      <td>0</td>\n",
       "      <td>0</td>\n",
       "      <td>0</td>\n",
       "      <td>0</td>\n",
       "    </tr>\n",
       "    <tr>\n",
       "      <th>0001b41b1c6bb37e</th>\n",
       "      <td>\"\\nMore\\nI can't make any real suggestions on ...</td>\n",
       "      <td>0</td>\n",
       "      <td>0</td>\n",
       "      <td>0</td>\n",
       "      <td>0</td>\n",
       "      <td>0</td>\n",
       "      <td>0</td>\n",
       "    </tr>\n",
       "    <tr>\n",
       "      <th>0001d958c54c6e35</th>\n",
       "      <td>You, sir, are my hero. Any chance you remember...</td>\n",
       "      <td>0</td>\n",
       "      <td>0</td>\n",
       "      <td>0</td>\n",
       "      <td>0</td>\n",
       "      <td>0</td>\n",
       "      <td>0</td>\n",
       "    </tr>\n",
       "  </tbody>\n",
       "</table>\n",
       "</div>"
      ],
      "text/plain": [
       "                                                       comment_text  toxic  \\\n",
       "id                                                                           \n",
       "0000997932d777bf  Explanation\\nWhy the edits made under my usern...      0   \n",
       "000103f0d9cfb60f  D'aww! He matches this background colour I'm s...      0   \n",
       "000113f07ec002fd  Hey man, I'm really not trying to edit war. It...      0   \n",
       "0001b41b1c6bb37e  \"\\nMore\\nI can't make any real suggestions on ...      0   \n",
       "0001d958c54c6e35  You, sir, are my hero. Any chance you remember...      0   \n",
       "\n",
       "                  severe_toxic  obscene  threat  insult  identity_hate  \n",
       "id                                                                      \n",
       "0000997932d777bf             0        0       0       0              0  \n",
       "000103f0d9cfb60f             0        0       0       0              0  \n",
       "000113f07ec002fd             0        0       0       0              0  \n",
       "0001b41b1c6bb37e             0        0       0       0              0  \n",
       "0001d958c54c6e35             0        0       0       0              0  "
      ]
     },
     "execution_count": 2,
     "metadata": {},
     "output_type": "execute_result"
    }
   ],
   "source": [
    "# Read the file\n",
    "dataPath = \"C:/Users/shash/Documents/MScA/Courses/Summer 2021/Advanced Machine Learning/Session 6/Toxic Comment Data/jigsaw-toxic-comment-classification-challenge/\"\n",
    "train = pd.read_csv(dataPath + 'train.csv/train.csv', index_col=0)\n",
    "train.head()"
   ]
  },
  {
   "cell_type": "code",
   "execution_count": 3,
   "metadata": {},
   "outputs": [
    {
     "name": "stdout",
     "output_type": "stream",
     "text": [
      "<class 'pandas.core.frame.DataFrame'>\n",
      "Index: 159571 entries, 0000997932d777bf to fff46fc426af1f9a\n",
      "Data columns (total 7 columns):\n",
      " #   Column         Non-Null Count   Dtype \n",
      "---  ------         --------------   ----- \n",
      " 0   comment_text   159571 non-null  object\n",
      " 1   toxic          159571 non-null  int64 \n",
      " 2   severe_toxic   159571 non-null  int64 \n",
      " 3   obscene        159571 non-null  int64 \n",
      " 4   threat         159571 non-null  int64 \n",
      " 5   insult         159571 non-null  int64 \n",
      " 6   identity_hate  159571 non-null  int64 \n",
      "dtypes: int64(6), object(1)\n",
      "memory usage: 9.7+ MB\n"
     ]
    }
   ],
   "source": [
    "train.info()"
   ]
  },
  {
   "cell_type": "code",
   "execution_count": 4,
   "metadata": {
    "scrolled": true
   },
   "outputs": [
    {
     "name": "stdout",
     "output_type": "stream",
     "text": [
      "['toxic', 'severe_toxic', 'obscene', 'threat', 'insult', 'identity_hate']\n"
     ]
    }
   ],
   "source": [
    "types = list(train)[1:]\n",
    "print(types)"
   ]
  },
  {
   "cell_type": "code",
   "execution_count": 5,
   "metadata": {},
   "outputs": [
    {
     "data": {
      "text/plain": [
       "<matplotlib.axes._subplots.AxesSubplot at 0x1d6fac50a08>"
      ]
     },
     "execution_count": 5,
     "metadata": {},
     "output_type": "execute_result"
    },
    {
     "data": {
      "image/png": "[encoded data removed]",
      "text/plain": [
       "<Figure size 432x288 with 1 Axes>"
      ]
     },
     "metadata": {
      "needs_background": "light"
     },
     "output_type": "display_data"
    }
   ],
   "source": [
    "train[types].mean().plot(kind='barh')"
   ]
  },
  {
   "cell_type": "code",
   "execution_count": 6,
   "metadata": {},
   "outputs": [
    {
     "name": "stdout",
     "output_type": "stream",
     "text": [
      "clean: 143346 ( 89.83 % )\n"
     ]
    }
   ],
   "source": [
    "# number of clean comments\n",
    "nb_clean = (train[types].sum(axis=1)==0).sum()\n",
    "print('clean:',nb_clean,'(',round(100*nb_clean/len(train),2),'% )')"
   ]
  },
  {
   "cell_type": "markdown",
   "metadata": {},
   "source": [
    "# Test labels disclosure\n",
    "\n",
    "Soon after closing the competition Kaggle added test data labels to the Data Page. Usually this information is not provided, but in this case Jigsaw have asked to provide it to community for continued model improvements and research. \n",
    "Some of the test samples were not labelled and were not used for scoring. Value of -1 indicates them. \n",
    "\n",
    "Remove labelled samples from the test set and add them to the train set. "
   ]
  },
  {
   "cell_type": "code",
   "execution_count": 7,
   "metadata": {},
   "outputs": [
    {
     "name": "stdout",
     "output_type": "stream",
     "text": [
      "                  toxic  severe_toxic  obscene  threat  insult  identity_hate\n",
      "id                                                                           \n",
      "00001cee341fdb12     -1            -1       -1      -1      -1             -1\n",
      "0000247867823ef7     -1            -1       -1      -1      -1             -1\n",
      "00013b17ad220c46     -1            -1       -1      -1      -1             -1\n",
      "00017563c3f7919a     -1            -1       -1      -1      -1             -1\n",
      "00017695ad8997eb     -1            -1       -1      -1      -1             -1\n",
      "0.41770912224804785 % of test is labelled\n",
      "(223549, 7) (89186, 1)\n"
     ]
    }
   ],
   "source": [
    "test = pd.read_csv(dataPath + 'test.csv/test.csv', index_col=0)\n",
    "test_labels = pd.read_csv(dataPath + 'test_labels.csv/test_labels.csv', index_col=0)\n",
    "print(test_labels.head())\n",
    "labelled_test = test.join(test_labels)\n",
    "disclosed = labelled_test.toxic > -1\n",
    "print(disclosed .mean(),'% of test is labelled')\n",
    "train = train.append(labelled_test[disclosed])\n",
    "test = labelled_test[~disclosed][['comment_text']]\n",
    "print(train.shape,test.shape)\n",
    "train.to_csv(dataPath+'tc_train.csv')\n",
    "test.to_csv(dataPath+'tc_test.csv')"
   ]
  },
  {
   "cell_type": "code",
   "execution_count": 8,
   "metadata": {},
   "outputs": [
    {
     "name": "stdout",
     "output_type": "stream",
     "text": [
      "<class 'pandas.core.frame.DataFrame'>\n",
      "Index: 223549 entries, 0000997932d777bf to fffb5451268fb5ba\n",
      "Data columns (total 7 columns):\n",
      " #   Column         Non-Null Count   Dtype \n",
      "---  ------         --------------   ----- \n",
      " 0   comment_text   223549 non-null  object\n",
      " 1   toxic          223549 non-null  int64 \n",
      " 2   severe_toxic   223549 non-null  int64 \n",
      " 3   obscene        223549 non-null  int64 \n",
      " 4   threat         223549 non-null  int64 \n",
      " 5   insult         223549 non-null  int64 \n",
      " 6   identity_hate  223549 non-null  int64 \n",
      "dtypes: int64(6), object(1)\n",
      "memory usage: 13.6+ MB\n"
     ]
    }
   ],
   "source": [
    "train.info()"
   ]
  },
  {
   "cell_type": "code",
   "execution_count": 9,
   "metadata": {},
   "outputs": [
    {
     "name": "stdout",
     "output_type": "stream",
     "text": [
      "<class 'pandas.core.frame.DataFrame'>\n",
      "Index: 89186 entries, 00001cee341fdb12 to ffffce3fb183ee80\n",
      "Data columns (total 1 columns):\n",
      " #   Column        Non-Null Count  Dtype \n",
      "---  ------        --------------  ----- \n",
      " 0   comment_text  89186 non-null  object\n",
      "dtypes: object(1)\n",
      "memory usage: 1.4+ MB\n"
     ]
    }
   ],
   "source": [
    "test.info()"
   ]
  },
  {
   "cell_type": "markdown",
   "metadata": {},
   "source": [
    "# FastText\n",
    "\n",
    "Below we will use FastText embeddings [crawl-300d-2M.vec](https://s3-us-west-1.amazonaws.com/fasttext-vectors/crawl-300d-2M.vec.zip) - 2 million word vectors trained on Common Crawl (600B tokens). These vectors in dimension 300 were obtained using model described in [Bojanowski et al. (2016)](https://arxiv.org/abs/1607.04606). Authors proposed a new approach based on the skipgram model, where each word is represented as a bag of character n-grams. A vector representation is associated to each character n-gram; words being represented as the sum of these representations.   \n",
    "File *crawl-300d-2M.vec* with word vectors has the following format.  \n",
    "The first line of the file contains the number of words in the vocabulary and the size of the vectors. Each line contains a word followed by its vectors, like in the default fastText text format. Each value is space separated. Words are ordered by descending frequency.  \n",
    "Create dictionary with words as keys and embeddings as values."
   ]
  },
  {
   "cell_type": "code",
   "execution_count": 10,
   "metadata": {},
   "outputs": [],
   "source": [
    "# Create embedding index from file in .txt format. First line contains \n",
    "# dictionary size and embedding dim. Fields are space separated\n",
    "def get_embeddings(file_name):\n",
    "    embeddings_index = {}\n",
    "    with open(file_name, encoding=\"utf8\") as f:\n",
    "        for line in f:\n",
    "            values = line.rstrip().split(' ')\n",
    "            if len(values) > 2:\n",
    "                embeddings_index[values[0]] = np.asarray(values[1:], dtype=\"float32\")\n",
    "    return embeddings_index"
   ]
  },
  {
   "cell_type": "code",
   "execution_count": 11,
   "metadata": {},
   "outputs": [],
   "source": [
    "embeddings_path = 'C:/Users/shash/Documents/MScA/Courses/Summer 2021/Advanced Machine Learning/Session 6/crawl-300d-2M.vec/'\n",
    "embeddings_index = get_embeddings(embeddings_path+'crawl-300d-2M.vec')"
   ]
  },
  {
   "cell_type": "code",
   "execution_count": 12,
   "metadata": {},
   "outputs": [],
   "source": [
    "import string\n",
    "trans_table = str.maketrans({key: ' ' for key in string.digits + '\\r\\n' +\n",
    "                             string.punctuation.replace(\"\\'\",'')})\n",
    "def preprocess(text):\n",
    "    return ' '.join(text.lower().translate(trans_table).split(' '))"
   ]
  },
  {
   "cell_type": "code",
   "execution_count": 13,
   "metadata": {},
   "outputs": [
    {
     "name": "stdout",
     "output_type": "stream",
     "text": [
      "Creating the vocabulary of words occurred more than 5\n",
      "45259 top words train\n",
      "25113 top words test\n"
     ]
    }
   ],
   "source": [
    "from sklearn.feature_extraction.text import CountVectorizer\n",
    "\n",
    "UNKNOWN_PROXY = 'unknown'\n",
    "MIN_WORD_OCCURRENCE = 5\n",
    "\n",
    "# Do these steps for Train and Test data\n",
    "train['comment_text'] = train.comment_text.apply(preprocess)\n",
    "test['comment_text'] = test.comment_text.apply(preprocess)\n",
    "print(\"Creating the vocabulary of words occurred more than\", MIN_WORD_OCCURRENCE)\n",
    "\n",
    "vectorizer_train = CountVectorizer(lowercase=False, token_pattern=\"\\S+\", \n",
    "                             min_df=MIN_WORD_OCCURRENCE)\n",
    "vectorizer_train.fit(train.comment_text)\n",
    "\n",
    "\n",
    "top_words_train = set(vectorizer_train.vocabulary_.keys())\n",
    "top_words_train.add(UNKNOWN_PROXY)\n",
    "print(len(top_words_train),'top words train')\n",
    "\n",
    "####CHECK IF THE BELOW IS CORRECT WITH TAMER#########\n",
    "vectorizer_test = CountVectorizer(lowercase=False, token_pattern=\"\\S+\", \n",
    "                             min_df=MIN_WORD_OCCURRENCE)\n",
    "vectorizer_test.fit(test.comment_text)\n",
    "\n",
    "top_words_test = set(vectorizer_test.vocabulary_.keys())\n",
    "top_words_test.add(UNKNOWN_PROXY)\n",
    "print(len(top_words_test),'top words test')"
   ]
  },
  {
   "cell_type": "code",
   "execution_count": 14,
   "metadata": {},
   "outputs": [
    {
     "name": "stdout",
     "output_type": "stream",
     "text": [
      "First 10 out of \"top_words_train\": \n",
      " ['hatred', 'unworkable', 'textile', 'vivid', 'cong', 'importing', 'wh', 'jp', 'astrological', 'så']\n",
      "Is \"unknown\" in top_words_train? \n",
      " True\n",
      "####\n",
      "\n",
      "First 10 out of \"top_words_test\": \n",
      " ['hatred', 'importing', 'wh', 'jp', 'så', 'behaved', 'involves', 'labs', 'deals', 'phony']\n",
      "Is \"unknown\" in top_words_test? \n",
      " True\n"
     ]
    }
   ],
   "source": [
    "print('First 10 out of \"top_words_train\": \\n',list(top_words_train)[:10])\n",
    "print('Is \"unknown\" in top_words_train? \\n','unknown' in top_words_train)\n",
    "### Test\n",
    "print(\"####\")\n",
    "print('\\nFirst 10 out of \"top_words_test\": \\n',list(top_words_test)[:10])\n",
    "print('Is \"unknown\" in top_words_test? \\n','unknown' in top_words_test)"
   ]
  },
  {
   "cell_type": "markdown",
   "metadata": {},
   "source": [
    "### Filter unknown words"
   ]
  },
  {
   "cell_type": "code",
   "execution_count": 15,
   "metadata": {},
   "outputs": [],
   "source": [
    "def filter_unknown(text, vocabulary, proxy):\n",
    "    return ' '. \\\n",
    "join([w if w in vocabulary else proxy for w in text.split(' ')])"
   ]
  },
  {
   "cell_type": "code",
   "execution_count": 16,
   "metadata": {},
   "outputs": [
    {
     "data": {
      "text/plain": [
       "id\n",
       "0000997932d777bf    explanation why the edits made under my userna...\n",
       "000103f0d9cfb60f    d'aww  he matches this background colour i'm s...\n",
       "Name: comment_text, dtype: object"
      ]
     },
     "execution_count": 16,
     "metadata": {},
     "output_type": "execute_result"
    }
   ],
   "source": [
    "train['comment_text'][:2]"
   ]
  },
  {
   "cell_type": "code",
   "execution_count": 17,
   "metadata": {},
   "outputs": [
    {
     "data": {
      "text/plain": [
       "id\n",
       "00001cee341fdb12    yo bitch ja rule is more succesful then you'll...\n",
       "0000247867823ef7       from rfc       the title is fine as it is  ...\n",
       "Name: comment_text, dtype: object"
      ]
     },
     "execution_count": 17,
     "metadata": {},
     "output_type": "execute_result"
    }
   ],
   "source": [
    "test['comment_text'][:2]"
   ]
  },
  {
   "cell_type": "code",
   "execution_count": 18,
   "metadata": {},
   "outputs": [],
   "source": [
    "train['comment_text'] = train.comment_text.apply(filter_unknown,\n",
    "                args=(set(embeddings_index.keys() & top_words_train), \\\n",
    "                      UNKNOWN_PROXY))\n",
    "\n",
    "test['comment_text'] = test.comment_text.apply(filter_unknown,\n",
    "                args=(set(embeddings_index.keys() & top_words_test), \\\n",
    "                      UNKNOWN_PROXY))"
   ]
  },
  {
   "cell_type": "code",
   "execution_count": 19,
   "metadata": {},
   "outputs": [
    {
     "data": {
      "text/plain": [
       "id\n",
       "0000997932d777bf    explanation why the edits made under my userna...\n",
       "000103f0d9cfb60f    unknown unknown he matches this background col...\n",
       "Name: comment_text, dtype: object"
      ]
     },
     "execution_count": 19,
     "metadata": {},
     "output_type": "execute_result"
    }
   ],
   "source": [
    "train['comment_text'][:2]"
   ]
  },
  {
   "cell_type": "code",
   "execution_count": 20,
   "metadata": {},
   "outputs": [
    {
     "data": {
      "text/plain": [
       "id\n",
       "00001cee341fdb12    yo bitch ja rule is more succesful then you'll...\n",
       "0000247867823ef7    unknown unknown unknown from rfc unknown unkno...\n",
       "Name: comment_text, dtype: object"
      ]
     },
     "execution_count": 20,
     "metadata": {},
     "output_type": "execute_result"
    }
   ],
   "source": [
    "test['comment_text'][:2]"
   ]
  },
  {
   "cell_type": "code",
   "execution_count": 21,
   "metadata": {},
   "outputs": [
    {
     "name": "stdout",
     "output_type": "stream",
     "text": [
      "First 10 out of \"top_words_train\": \n",
      " ['hatred', 'unworkable', 'textile', 'vivid', 'cong', 'importing', 'wh', 'jp', 'astrological', 'så']\n",
      "Is \"unknown\" in top_words_train? \n",
      " True\n",
      "####\n",
      "\n",
      "First 10 out of \"top_words_test\": \n",
      " ['hatred', 'importing', 'wh', 'jp', 'så', 'behaved', 'involves', 'labs', 'deals', 'phony']\n",
      "Is \"unknown\" in top_words_test? \n",
      " True\n"
     ]
    }
   ],
   "source": [
    "print('First 10 out of \"top_words_train\": \\n',list(top_words_train)[:10])\n",
    "print('Is \"unknown\" in top_words_train? \\n','unknown' in top_words_train)\n",
    "### Test\n",
    "print(\"####\")\n",
    "print('\\nFirst 10 out of \"top_words_test\": \\n',list(top_words_test)[:10])\n",
    "print('Is \"unknown\" in top_words_test? \\n','unknown' in top_words_test)"
   ]
  },
  {
   "cell_type": "markdown",
   "metadata": {},
   "source": [
    "# Tokenization\n",
    "\n",
    "Tokenize reviews by Keras preprocessing classes\n",
    "\n",
    "`Tokenizer`: Class allowing to vectorize a text corpus, by turning each text into either a sequence of integers (each integer being the index of a token in a dictionary) or into a vector where the coefficient for each token could be binary, based on word count, based on tf-idf...\n",
    "\n",
    "`fit_on_texts()`: Method of `Tokenizer` that updates internal vocabulary based on a list of texts.\n",
    "Required before using `texts_to_sequences()` or `texts_to_matrix()`."
   ]
  },
  {
   "cell_type": "code",
   "execution_count": 22,
   "metadata": {},
   "outputs": [],
   "source": [
    "from tensorflow.keras.preprocessing.text import text_to_word_sequence, Tokenizer\n",
    "from tensorflow.keras.preprocessing.sequence import pad_sequences\n",
    "from tensorflow.keras.layers import Embedding"
   ]
  },
  {
   "cell_type": "code",
   "execution_count": 23,
   "metadata": {},
   "outputs": [
    {
     "name": "stdout",
     "output_type": "stream",
     "text": [
      "<keras_preprocessing.text.Tokenizer object at 0x000001D6800F7608>\n",
      "<keras_preprocessing.text.Tokenizer object at 0x000001D68015CC08>\n"
     ]
    }
   ],
   "source": [
    "tokenizer_train = Tokenizer(filters=\"\")\n",
    "tokenizer_train.fit_on_texts(train.comment_text)\n",
    "print(tokenizer_train)\n",
    "\n",
    "## Test\n",
    "tokenizer_test = Tokenizer(filters=\"\")\n",
    "tokenizer_test.fit_on_texts(test.comment_text)\n",
    "print(tokenizer_test)"
   ]
  },
  {
   "cell_type": "markdown",
   "metadata": {},
   "source": [
    "Result of `fit_on_texts()` is `word_index` - list of tuples  with words and their index values."
   ]
  },
  {
   "cell_type": "code",
   "execution_count": 24,
   "metadata": {},
   "outputs": [
    {
     "name": "stdout",
     "output_type": "stream",
     "text": [
      "40185\n",
      "[('unknown', 1), ('the', 2), ('to', 3), ('of', 4), ('and', 5), ('a', 6), ('you', 7), ('i', 8), ('is', 9), ('that', 10), ('in', 11), ('it', 12), ('for', 13), ('this', 14), ('not', 15), ('on', 16), ('be', 17), ('as', 18), ('are', 19), ('have', 20), ('your', 21), ('with', 22), ('if', 23), ('article', 24), ('was', 25), ('or', 26), ('but', 27), ('page', 28), ('an', 29), ('wikipedia', 30), ('my', 31), ('from', 32), ('by', 33), ('at', 34), ('do', 35), ('about', 36), ('so', 37), ('me', 38), ('what', 39), ('can', 40), ('there', 41), ('talk', 42), ('all', 43), ('has', 44), ('will', 45), ('would', 46), ('no', 47), ('please', 48), ('one', 49), ('like', 50)]\n",
      "24011\n",
      "[('unknown', 1), ('the', 2), ('to', 3), ('a', 4), ('and', 5), ('of', 6), ('you', 7), ('i', 8), ('is', 9), ('that', 10), ('in', 11), ('it', 12), ('this', 13), ('for', 14), ('not', 15), ('on', 16), ('be', 17), ('as', 18), ('are', 19), ('have', 20), ('your', 21), ('with', 22), ('if', 23), ('article', 24), ('but', 25), ('was', 26), ('or', 27), ('fuck', 28), ('an', 29), ('wikipedia', 30), ('my', 31), ('at', 32), ('by', 33), ('from', 34), ('page', 35), ('so', 36), ('do', 37), ('about', 38), ('all', 39), ('what', 40), ('can', 41), ('me', 42), ('there', 43), ('like', 44), ('just', 45), ('no', 46), ('has', 47), ('would', 48), ('one', 49), ('they', 50)]\n"
     ]
    }
   ],
   "source": [
    "word_index_train = tokenizer_train.word_index\n",
    "print(len(word_index_train))\n",
    "print(list(word_index_train.items())[:50])\n",
    "\n",
    "\n",
    "## TEST\n",
    "word_index_test = tokenizer_test.word_index\n",
    "print(len(word_index_test))\n",
    "print(list(word_index_test.items())[:50])"
   ]
  },
  {
   "cell_type": "markdown",
   "metadata": {},
   "source": [
    "Prepare input data for neural network.\n",
    "\n",
    "Method `texts_to_sequences()` turns each text into a sequence of integers. Integers are index values in `word_index`: check the first review, it starts with \"aroma\". That word is #16 in `word_index`. The first integer in the first list of `seq` is 16.\n",
    "\n",
    "Method `pad_sequences()` pads sequences to the same lengths.\n",
    "\n",
    "Dump data into file `wine_data.pkl`."
   ]
  },
  {
   "cell_type": "code",
   "execution_count": 35,
   "metadata": {},
   "outputs": [
    {
     "data": {
      "text/plain": [
       "((223549, 50), (89186, 50))"
      ]
     },
     "execution_count": 35,
     "metadata": {},
     "output_type": "execute_result"
    }
   ],
   "source": [
    "data_train.shape, data_test.shape"
   ]
  },
  {
   "cell_type": "code",
   "execution_count": 56,
   "metadata": {},
   "outputs": [
    {
     "data": {
      "text/html": [
       "<div>\n",
       "<style scoped>\n",
       "    .dataframe tbody tr th:only-of-type {\n",
       "        vertical-align: middle;\n",
       "    }\n",
       "\n",
       "    .dataframe tbody tr th {\n",
       "        vertical-align: top;\n",
       "    }\n",
       "\n",
       "    .dataframe thead th {\n",
       "        text-align: right;\n",
       "    }\n",
       "</style>\n",
       "<table border=\"1\" class=\"dataframe\">\n",
       "  <thead>\n",
       "    <tr style=\"text-align: right;\">\n",
       "      <th></th>\n",
       "      <th>toxic</th>\n",
       "      <th>severe_toxic</th>\n",
       "      <th>obscene</th>\n",
       "      <th>threat</th>\n",
       "      <th>insult</th>\n",
       "      <th>identity_hate</th>\n",
       "    </tr>\n",
       "    <tr>\n",
       "      <th>id</th>\n",
       "      <th></th>\n",
       "      <th></th>\n",
       "      <th></th>\n",
       "      <th></th>\n",
       "      <th></th>\n",
       "      <th></th>\n",
       "    </tr>\n",
       "  </thead>\n",
       "  <tbody>\n",
       "    <tr>\n",
       "      <th>0000997932d777bf</th>\n",
       "      <td>0</td>\n",
       "      <td>0</td>\n",
       "      <td>0</td>\n",
       "      <td>0</td>\n",
       "      <td>0</td>\n",
       "      <td>0</td>\n",
       "    </tr>\n",
       "    <tr>\n",
       "      <th>000103f0d9cfb60f</th>\n",
       "      <td>0</td>\n",
       "      <td>0</td>\n",
       "      <td>0</td>\n",
       "      <td>0</td>\n",
       "      <td>0</td>\n",
       "      <td>0</td>\n",
       "    </tr>\n",
       "    <tr>\n",
       "      <th>000113f07ec002fd</th>\n",
       "      <td>0</td>\n",
       "      <td>0</td>\n",
       "      <td>0</td>\n",
       "      <td>0</td>\n",
       "      <td>0</td>\n",
       "      <td>0</td>\n",
       "    </tr>\n",
       "    <tr>\n",
       "      <th>0001b41b1c6bb37e</th>\n",
       "      <td>0</td>\n",
       "      <td>0</td>\n",
       "      <td>0</td>\n",
       "      <td>0</td>\n",
       "      <td>0</td>\n",
       "      <td>0</td>\n",
       "    </tr>\n",
       "    <tr>\n",
       "      <th>0001d958c54c6e35</th>\n",
       "      <td>0</td>\n",
       "      <td>0</td>\n",
       "      <td>0</td>\n",
       "      <td>0</td>\n",
       "      <td>0</td>\n",
       "      <td>0</td>\n",
       "    </tr>\n",
       "    <tr>\n",
       "      <th>...</th>\n",
       "      <td>...</td>\n",
       "      <td>...</td>\n",
       "      <td>...</td>\n",
       "      <td>...</td>\n",
       "      <td>...</td>\n",
       "      <td>...</td>\n",
       "    </tr>\n",
       "    <tr>\n",
       "      <th>fff8f64043129fa2</th>\n",
       "      <td>0</td>\n",
       "      <td>0</td>\n",
       "      <td>0</td>\n",
       "      <td>0</td>\n",
       "      <td>0</td>\n",
       "      <td>0</td>\n",
       "    </tr>\n",
       "    <tr>\n",
       "      <th>fff9d70fe0722906</th>\n",
       "      <td>0</td>\n",
       "      <td>0</td>\n",
       "      <td>0</td>\n",
       "      <td>0</td>\n",
       "      <td>0</td>\n",
       "      <td>0</td>\n",
       "    </tr>\n",
       "    <tr>\n",
       "      <th>fffa8a11c4378854</th>\n",
       "      <td>0</td>\n",
       "      <td>0</td>\n",
       "      <td>0</td>\n",
       "      <td>0</td>\n",
       "      <td>0</td>\n",
       "      <td>0</td>\n",
       "    </tr>\n",
       "    <tr>\n",
       "      <th>fffac2a094c8e0e2</th>\n",
       "      <td>1</td>\n",
       "      <td>0</td>\n",
       "      <td>1</td>\n",
       "      <td>0</td>\n",
       "      <td>1</td>\n",
       "      <td>0</td>\n",
       "    </tr>\n",
       "    <tr>\n",
       "      <th>fffb5451268fb5ba</th>\n",
       "      <td>0</td>\n",
       "      <td>0</td>\n",
       "      <td>0</td>\n",
       "      <td>0</td>\n",
       "      <td>0</td>\n",
       "      <td>0</td>\n",
       "    </tr>\n",
       "  </tbody>\n",
       "</table>\n",
       "<p>223549 rows × 6 columns</p>\n",
       "</div>"
      ],
      "text/plain": [
       "                  toxic  severe_toxic  obscene  threat  insult  identity_hate\n",
       "id                                                                           \n",
       "0000997932d777bf      0             0        0       0       0              0\n",
       "000103f0d9cfb60f      0             0        0       0       0              0\n",
       "000113f07ec002fd      0             0        0       0       0              0\n",
       "0001b41b1c6bb37e      0             0        0       0       0              0\n",
       "0001d958c54c6e35      0             0        0       0       0              0\n",
       "...                 ...           ...      ...     ...     ...            ...\n",
       "fff8f64043129fa2      0             0        0       0       0              0\n",
       "fff9d70fe0722906      0             0        0       0       0              0\n",
       "fffa8a11c4378854      0             0        0       0       0              0\n",
       "fffac2a094c8e0e2      1             0        1       0       1              0\n",
       "fffb5451268fb5ba      0             0        0       0       0              0\n",
       "\n",
       "[223549 rows x 6 columns]"
      ]
     },
     "execution_count": 56,
     "metadata": {},
     "output_type": "execute_result"
    }
   ],
   "source": [
    "train[types]"
   ]
  },
  {
   "cell_type": "code",
   "execution_count": 27,
   "metadata": {},
   "outputs": [
    {
     "name": "stdout",
     "output_type": "stream",
     "text": [
      "\n",
      "First 2 sequences in `seq`:  [[668, 77, 2, 133, 130, 176, 31, 658, 4322, 10972, 1109, 85, 347, 1, 52, 1, 12090, 1, 51, 6172, 16, 60, 2522, 147, 8, 2744, 34, 116, 1179, 15205, 2412, 1, 5, 48, 61, 245, 2, 357, 32, 2, 42, 28, 142, 1, 3422, 89, 1, 1, 1, 1, 1, 1, 1, 1, 1, 1, 1, 1, 1], [1, 1, 53, 2714, 14, 463, 3572, 1, 4414, 2647, 22, 1, 93, 1, 1, 1, 42, 1, 1, 1, 1, 1, 1, 1, 1, 953, 1, 1, 1, 1, 1, 1, 1, 1, 1, 1, 195, 1]]\n",
      "\n",
      "Shape of `data`:  (223549, 50)\n",
      "\n",
      "First prepared text in `data`: [  668    77     2   133   130   176    31   658  4322 10972  1109    85\n",
      "   347     1    52     1 12090     1    51  6172    16    60  2522   147\n",
      "     8  2744    34   116  1179 15205  2412     1     5    48    61   245\n",
      "     2   357    32     2    42    28   142     1  3422    89     1     1\n",
      "     1     1]\n",
      "\n",
      "First 2 sequences in `seq`:  [[1388, 205, 2845, 770, 9, 57, 20928, 82, 837, 292, 17, 3098, 66, 22, 7, 5, 5308, 7, 1542, 1, 1, 1, 8, 56, 205, 5150, 966, 1, 490, 4552, 5, 87, 7, 3, 2448, 31, 229, 7, 653, 20929, 42, 1, 2845, 770, 9, 38, 4082, 11, 674, 616, 322, 1, 424, 10992, 10, 126, 16, 157, 1, 5, 12685, 9, 249, 17106, 44, 1655, 51, 26, 4, 1964, 151, 1, 1, 1845, 490, 1897, 87, 218, 145, 502, 84, 1, 1], [1, 1, 1, 34, 1054, 1, 1, 1, 1, 1, 1, 2, 347, 9, 646, 18, 12, 9, 1, 2629, 1]]\n",
      "\n",
      "Shape of `data`:  (89186, 50)\n",
      "\n",
      "First prepared text in `data`: [ 1388   205  2845   770     9    57 20928    82   837   292    17  3098\n",
      "    66    22     7     5  5308     7  1542     1     1     1     8    56\n",
      "   205  5150   966     1   490  4552     5    87     7     3  2448    31\n",
      "   229     7   653 20929    42     1  2845   770     9    38  4082    11\n",
      "   674   616]\n"
     ]
    }
   ],
   "source": [
    "MAX_SEQUENCE_LENGTH = 50\n",
    "\n",
    "## Train\n",
    "seq_train = tokenizer_train.texts_to_sequences(train.comment_text)\n",
    "data_train = pad_sequences(seq_train,maxlen=MAX_SEQUENCE_LENGTH,padding='post',\n",
    "                     truncating='post')\n",
    "with open(dataPath + 'wiki_data_train.pkl','wb') as f: pickle.dump(data_train, f, -1)\n",
    "\n",
    "print('\\nFirst 2 sequences in `seq`: ',seq_train[:2])\n",
    "print('\\nShape of `data`: ',data_train.shape)\n",
    "print('\\nFirst prepared text in `data`:',data_train[0])\n",
    "\n",
    "## Test\n",
    "seq_test = tokenizer_test.texts_to_sequences(test.comment_text)\n",
    "data_test = pad_sequences(seq_test,maxlen=MAX_SEQUENCE_LENGTH,padding='post',\n",
    "                     truncating='post')\n",
    "with open(dataPath + 'wiki_data_test.pkl','wb') as f: pickle.dump(data_test, f, -1)\n",
    "\n",
    "print('\\nFirst 2 sequences in `seq`: ',seq_test[:2])\n",
    "print('\\nShape of `data`: ',data_test.shape)\n",
    "print('\\nFirst prepared text in `data`:',data_test[0])"
   ]
  },
  {
   "cell_type": "code",
   "execution_count": 30,
   "metadata": {},
   "outputs": [
    {
     "data": {
      "text/plain": [
       "300"
      ]
     },
     "execution_count": 30,
     "metadata": {},
     "output_type": "execute_result"
    }
   ],
   "source": [
    "embeddings_dim = len(next(iter(embeddings_index.values())))\n",
    "embeddings_dim\n",
    "# Note that this is necessary because values of a dictionary have no attribute shape, \n",
    "# so embeddings_index.values().shape will not work."
   ]
  },
  {
   "cell_type": "markdown",
   "metadata": {},
   "source": [
    "The following function `get_embedding_matrix()` makes embedding matrix from `word_index` and `embeddings_index` obtained above. <br>\n",
    "\n",
    "Embedding matrix shape is `(len(word_index) + 1,embeddings_dim)`. <br>\n",
    "\n",
    "Row number $i$ of the embedding matrix contains embedding vector of the word whith index in `word_index` equal to $i$."
   ]
  },
  {
   "cell_type": "code",
   "execution_count": 28,
   "metadata": {},
   "outputs": [],
   "source": [
    "# Create embedding matrix\n",
    "def get_embedding_matrix(word_index,embeddings_index):\n",
    "    nb_words = len(word_index) + 1 # +1 since min(word_index.values())=1\n",
    "    embedding_matrix = np.zeros((nb_words,embeddings_dim))\n",
    "    unknown = 0\n",
    "    for word, i in word_index.items():\n",
    "        embedding_vector = embeddings_index.get(word)\n",
    "        if embedding_vector is None: unknown += 1\n",
    "        else: embedding_matrix[i] = embedding_vector\n",
    "    return embedding_matrix, unknown"
   ]
  },
  {
   "cell_type": "markdown",
   "metadata": {},
   "source": [
    "Now preparation of the data is finished. It is possible to start building model.But it is common and convenient to create embedding layer and save it beforehand. \n",
    "This helpes separating data preparation and network fitting. \n",
    "Then only two files are necessary to run the network: `wine_data.pkl` and the embedding layer, both saved earlier.\n",
    "\n",
    "In text processing networks embedding layer comes first after the input layer. It transforms sequences of integers (word indices) to sequences of correspondent embedding vectors using embedding matrix.\n",
    "\n",
    "The function below creates and saves  embedding layer. Setting `trainable=False` means that the weights of this layer (actually the elements of embedding matrix) will not be changed during model training. "
   ]
  },
  {
   "cell_type": "code",
   "execution_count": 31,
   "metadata": {},
   "outputs": [
    {
     "name": "stdout",
     "output_type": "stream",
     "text": [
      "0 unknown words\n",
      "0 unknown words\n"
     ]
    }
   ],
   "source": [
    "# Create embedding_layer and save it.\n",
    "def make_save_emb_layer(word_index,embeddings_index,layer_file_name):\n",
    "    embedding_matrix,unknown = get_embedding_matrix(word_index,embeddings_index)\n",
    "    embedding_layer = Embedding(embedding_matrix.shape[0],embedding_matrix.shape[1],\n",
    "                                weights=[embedding_matrix],trainable=False)\n",
    "    with open(layer_file_name,'wb') as f: \n",
    "        pickle.dump(embedding_layer, f, -1)\n",
    "    return unknown\n",
    "\n",
    "\n",
    "## Train\n",
    "EMBEDDING_LAYER_FILE_train = dataPath + 'wiki_embed_layer_train.pkl'\n",
    "print(make_save_emb_layer(word_index_train,embeddings_index,EMBEDDING_LAYER_FILE_train),\n",
    "      'unknown words')\n",
    "\n",
    "## Test\n",
    "EMBEDDING_LAYER_FILE_test = dataPath + 'wiki_embed_layer_test.pkl'\n",
    "print(make_save_emb_layer(word_index_test,embeddings_index,EMBEDDING_LAYER_FILE_test),\n",
    "      'unknown words')"
   ]
  },
  {
   "cell_type": "markdown",
   "metadata": {},
   "source": [
    "# Model\n",
    "\n",
    "The following architecture of the model was used in the competition by several participants."
   ]
  },
  {
   "cell_type": "code",
   "execution_count": 41,
   "metadata": {},
   "outputs": [
    {
     "data": {
      "text/plain": [
       "<tensorflow.python.keras.metrics.AUC at 0x1d7e99c5608>"
      ]
     },
     "execution_count": 41,
     "metadata": {},
     "output_type": "execute_result"
    }
   ],
   "source": [
    "import tensorflow as tf\n",
    "\n",
    "tf.keras.metrics.AUC(\n",
    "    num_thresholds=200, curve='ROC',\n",
    "    summation_method='interpolation', name=None, dtype=None,\n",
    "    thresholds=None, multi_label=False, num_labels=None, label_weights=None,\n",
    "    from_logits=False\n",
    ")"
   ]
  },
  {
   "cell_type": "code",
   "execution_count": 94,
   "metadata": {},
   "outputs": [],
   "source": [
    "from tensorflow.keras.layers import Dense,Embedding,Input,Dropout,Conv1D\n",
    "from tensorflow.keras.layers import SpatialDropout1D, Flatten,LSTM, GlobalAveragePooling1D, GlobalMaxPooling1D\n",
    "from tensorflow.keras.models import Model\n",
    "from tensorflow.keras.optimizers import Adam\n",
    "from tensorflow.keras.layers import BatchNormalization\n",
    "from tensorflow.keras.callbacks import EarlyStopping, ModelCheckpoint, TensorBoard\n",
    "from sklearn.metrics import roc_auc_score\n",
    "from tensorflow.keras.utils import plot_model\n",
    "\n",
    "\n",
    "def get_model():\n",
    "    input_layer = Input(shape=(MAX_SEQUENCE_LENGTH,))\n",
    "    x = embedding_layer(input_layer)\n",
    "    x = SpatialDropout1D(0.5)(x)\n",
    "    x = LSTM(10, return_sequences=True)(x)\n",
    "    x = Conv1D(5, kernel_size=2, padding=\"valid\")(x)\n",
    "    x = GlobalMaxPooling1D()(x)\n",
    "    x = BatchNormalization()(x)\n",
    "    x = Dropout(.2)(x)\n",
    "    output_layer = Dense(6, activation=\"softmax\")(x)\n",
    "    model = Model(inputs=input_layer, outputs=output_layer)\n",
    "    model.compile(loss=\"categorical_crossentropy\", optimizer=Adam(), metrics=[tf.keras.metrics.AUC()])\n",
    "    return model"
   ]
  },
  {
   "cell_type": "code",
   "execution_count": 40,
   "metadata": {},
   "outputs": [],
   "source": [
    "with open(EMBEDDING_LAYER_FILE_train, 'rb') as f: embedding_layer = pickle.load(f)\n",
    "with open(dataPath + 'wiki_data_train.pkl', 'rb') as f: data = pickle.load(f)  "
   ]
  },
  {
   "cell_type": "code",
   "execution_count": 87,
   "metadata": {},
   "outputs": [],
   "source": [
    "X_train, X_val, y_train, y_val = train_test_split(data_train, train[types].to_numpy(), \n",
    "                    test_size=0.2,  random_state=0)"
   ]
  },
  {
   "cell_type": "code",
   "execution_count": 95,
   "metadata": {},
   "outputs": [
    {
     "name": "stdout",
     "output_type": "stream",
     "text": [
      "Model: \"model_2\"\n",
      "_________________________________________________________________\n",
      "Layer (type)                 Output Shape              Param #   \n",
      "=================================================================\n",
      "input_3 (InputLayer)         [(None, 50)]              0         \n",
      "_________________________________________________________________\n",
      "embedding (Embedding)        (None, 50, 300)           12055800  \n",
      "_________________________________________________________________\n",
      "spatial_dropout1d_2 (Spatial (None, 50, 300)           0         \n",
      "_________________________________________________________________\n",
      "lstm_2 (LSTM)                (None, 50, 10)            12440     \n",
      "_________________________________________________________________\n",
      "conv1d_2 (Conv1D)            (None, 49, 5)             105       \n",
      "_________________________________________________________________\n",
      "global_max_pooling1d (Global (None, 5)                 0         \n",
      "_________________________________________________________________\n",
      "batch_normalization_2 (Batch (None, 5)                 20        \n",
      "_________________________________________________________________\n",
      "dropout_2 (Dropout)          (None, 5)                 0         \n",
      "_________________________________________________________________\n",
      "dense_2 (Dense)              (None, 6)                 36        \n",
      "=================================================================\n",
      "Total params: 12,068,401\n",
      "Trainable params: 12,591\n",
      "Non-trainable params: 12,055,810\n",
      "_________________________________________________________________\n",
      "None\n",
      "('You must install pydot (`pip install pydot`) and install graphviz (see instructions at https://graphviz.gitlab.io/download/) ', 'for plot_model/model_to_dot to work.')\n"
     ]
    }
   ],
   "source": [
    "best_model_path = 'best_model.h5'\n",
    "BATCH_SIZE = 512\n",
    "\n",
    "early_stopping = EarlyStopping(patience=2)\n",
    "model_checkpoint = ModelCheckpoint(best_model_path,\n",
    "                                   save_best_only=True, save_weights_only=True)\n",
    "model = get_model()\n",
    "print(model.summary())\n",
    "plot_model(model, to_file='wiki_reviews.png',show_shapes=True,show_layer_names=True)"
   ]
  },
  {
   "cell_type": "code",
   "execution_count": 96,
   "metadata": {},
   "outputs": [
    {
     "name": "stdout",
     "output_type": "stream",
     "text": [
      "Epoch 1/28\n",
      "350/350 - 11s - loss: 0.4635 - auc_3: 0.4956 - val_loss: 0.4954 - val_auc_3: 0.5526\n",
      "Epoch 2/28\n",
      "350/350 - 9s - loss: 0.5807 - auc_3: 0.4747 - val_loss: 0.4848 - val_auc_3: 0.5563\n",
      "Epoch 3/28\n",
      "350/350 - 9s - loss: 0.6847 - auc_3: 0.4677 - val_loss: 0.4721 - val_auc_3: 0.5671\n",
      "Epoch 4/28\n",
      "350/350 - 9s - loss: 0.7794 - auc_3: 0.4708 - val_loss: 0.4720 - val_auc_3: 0.5475\n",
      "Epoch 5/28\n",
      "350/350 - 8s - loss: 0.8711 - auc_3: 0.4724 - val_loss: 0.4866 - val_auc_3: 0.5691\n",
      "Epoch 6/28\n",
      "350/350 - 9s - loss: 0.9707 - auc_3: 0.4690 - val_loss: 0.4941 - val_auc_3: 0.5652\n",
      "validation AUC 0.5017588391796065\n"
     ]
    }
   ],
   "source": [
    "hist = model.fit(X_train, y_train,validation_data=(X_val, y_val),\n",
    "                 epochs=28, batch_size=BATCH_SIZE, shuffle=True, verbose=2,\n",
    "                 callbacks=[model_checkpoint, early_stopping])\n",
    "model.load_weights(best_model_path)\n",
    "val_pred = model.predict(X_val, batch_size=BATCH_SIZE, verbose=0)\n",
    "print('validation AUC',roc_auc_score(y_test, val_pred))"
   ]
  },
  {
   "cell_type": "code",
   "execution_count": 97,
   "metadata": {
    "scrolled": true
   },
   "outputs": [
    {
     "data": {
      "image/png": "[encoded data removed]",
      "text/plain": [
       "<Figure size 432x288 with 1 Axes>"
      ]
     },
     "metadata": {
      "needs_background": "light"
     },
     "output_type": "display_data"
    }
   ],
   "source": [
    "import matplotlib.pyplot as plt\n",
    "plt.plot(hist.history['auc_3'])\n",
    "plt.plot(hist.history['val_auc_3'])\n",
    "plt.title('model auc')\n",
    "plt.ylabel('auc')\n",
    "plt.xlabel('epoch')\n",
    "plt.legend(['train', 'test'], loc='upper right');"
   ]
  },
  {
   "cell_type": "code",
   "execution_count": 53,
   "metadata": {},
   "outputs": [
    {
     "data": {
      "text/plain": [
       "{'loss': [0.6007495522499084,\n",
       "  0.8348697423934937,\n",
       "  1.0443501472473145,\n",
       "  1.2403841018676758],\n",
       " 'auc_1': [0.5017126202583313,\n",
       "  0.42931342124938965,\n",
       "  0.40737301111221313,\n",
       "  0.40652236342430115],\n",
       " 'val_loss': [0.4380074441432953,\n",
       "  0.43419769406318665,\n",
       "  0.48174676299095154,\n",
       "  0.5320612192153931],\n",
       " 'val_auc_1': [0.558103084564209,\n",
       "  0.5142197012901306,\n",
       "  0.4799881875514984,\n",
       "  0.4279025197029114]}"
      ]
     },
     "execution_count": 53,
     "metadata": {},
     "output_type": "execute_result"
    }
   ],
   "source": [
    "hist.history"
   ]
  },
  {
   "cell_type": "code",
   "execution_count": 90,
   "metadata": {},
   "outputs": [],
   "source": [
    "test_pred = model.predict(data_test, batch_size=BATCH_SIZE, verbose=0)"
   ]
  },
  {
   "cell_type": "code",
   "execution_count": 91,
   "metadata": {},
   "outputs": [
    {
     "data": {
      "text/plain": [
       "array([[4.9185276e-01, 1.5550743e-02, 3.0214533e-01, 9.0294634e-05,\n",
       "        1.7785312e-01, 1.2507689e-02],\n",
       "       [1.7943120e-01, 6.0667485e-02, 4.7475800e-02, 5.3176790e-01,\n",
       "        1.3138953e-01, 4.9268067e-02],\n",
       "       [1.6667527e-01, 5.8722589e-02, 4.4937395e-02, 5.5733550e-01,\n",
       "        1.2480349e-01, 4.7525760e-02],\n",
       "       ...,\n",
       "       [1.3593674e-01, 5.3910993e-02, 3.6559042e-02, 6.2456965e-01,\n",
       "        1.0515201e-01, 4.3871563e-02],\n",
       "       [1.3009614e-01, 5.3649206e-02, 3.6060888e-02, 6.3404852e-01,\n",
       "        1.0352029e-01, 4.2624976e-02],\n",
       "       [5.2821308e-01, 2.1439256e-02, 2.2723429e-01, 3.7442290e-04,\n",
       "        2.0610943e-01, 1.6629500e-02]], dtype=float32)"
      ]
     },
     "execution_count": 91,
     "metadata": {},
     "output_type": "execute_result"
    }
   ],
   "source": [
    "test_pred"
   ]
  },
  {
   "cell_type": "code",
   "execution_count": 93,
   "metadata": {},
   "outputs": [
    {
     "data": {
      "text/plain": [
       "array([0.01555074, 0.06066748, 0.05872259, ..., 0.05391099, 0.05364921,\n",
       "       0.02143926], dtype=float32)"
      ]
     },
     "execution_count": 93,
     "metadata": {},
     "output_type": "execute_result"
    }
   ],
   "source": [
    "test_pred[0:, 1]"
   ]
  },
  {
   "cell_type": "code",
   "execution_count": 80,
   "metadata": {},
   "outputs": [],
   "source": [
    "submission = pd.DataFrame()\n",
    "submission['id'] = test.index\n",
    "submission['toxic'] = test_pred[0:, 0]\n",
    "submission['severe_toxic'] = test_pred[0:, 1]\n",
    "submission['obscene'] = test_pred[0:, 2]\n",
    "submission['threat'] = test_pred[0:, 3]\n",
    "submission['insult'] = test_pred[0:, 4]\n",
    "submission['identity_hate'] = test_pred[0:, 5]\n",
    "\n"
   ]
  },
  {
   "cell_type": "code",
   "execution_count": 81,
   "metadata": {},
   "outputs": [
    {
     "data": {
      "text/html": [
       "<div>\n",
       "<style scoped>\n",
       "    .dataframe tbody tr th:only-of-type {\n",
       "        vertical-align: middle;\n",
       "    }\n",
       "\n",
       "    .dataframe tbody tr th {\n",
       "        vertical-align: top;\n",
       "    }\n",
       "\n",
       "    .dataframe thead th {\n",
       "        text-align: right;\n",
       "    }\n",
       "</style>\n",
       "<table border=\"1\" class=\"dataframe\">\n",
       "  <thead>\n",
       "    <tr style=\"text-align: right;\">\n",
       "      <th></th>\n",
       "      <th>id</th>\n",
       "      <th>toxic</th>\n",
       "      <th>severe_toxic</th>\n",
       "      <th>obscene</th>\n",
       "      <th>threat</th>\n",
       "      <th>insult</th>\n",
       "      <th>identity_hate</th>\n",
       "    </tr>\n",
       "  </thead>\n",
       "  <tbody>\n",
       "    <tr>\n",
       "      <th>0</th>\n",
       "      <td>00001cee341fdb12</td>\n",
       "      <td>0.695320</td>\n",
       "      <td>0.103010</td>\n",
       "      <td>0.089683</td>\n",
       "      <td>0.080381</td>\n",
       "      <td>0.010491</td>\n",
       "      <td>0.021115</td>\n",
       "    </tr>\n",
       "    <tr>\n",
       "      <th>1</th>\n",
       "      <td>0000247867823ef7</td>\n",
       "      <td>0.146437</td>\n",
       "      <td>0.173210</td>\n",
       "      <td>0.154187</td>\n",
       "      <td>0.201381</td>\n",
       "      <td>0.172166</td>\n",
       "      <td>0.152619</td>\n",
       "    </tr>\n",
       "    <tr>\n",
       "      <th>2</th>\n",
       "      <td>00013b17ad220c46</td>\n",
       "      <td>0.152223</td>\n",
       "      <td>0.166386</td>\n",
       "      <td>0.152349</td>\n",
       "      <td>0.196146</td>\n",
       "      <td>0.156782</td>\n",
       "      <td>0.176114</td>\n",
       "    </tr>\n",
       "    <tr>\n",
       "      <th>3</th>\n",
       "      <td>00017563c3f7919a</td>\n",
       "      <td>0.182831</td>\n",
       "      <td>0.199159</td>\n",
       "      <td>0.102165</td>\n",
       "      <td>0.136930</td>\n",
       "      <td>0.235032</td>\n",
       "      <td>0.143883</td>\n",
       "    </tr>\n",
       "    <tr>\n",
       "      <th>4</th>\n",
       "      <td>00017695ad8997eb</td>\n",
       "      <td>0.143533</td>\n",
       "      <td>0.153496</td>\n",
       "      <td>0.156877</td>\n",
       "      <td>0.197888</td>\n",
       "      <td>0.140230</td>\n",
       "      <td>0.207975</td>\n",
       "    </tr>\n",
       "    <tr>\n",
       "      <th>...</th>\n",
       "      <td>...</td>\n",
       "      <td>...</td>\n",
       "      <td>...</td>\n",
       "      <td>...</td>\n",
       "      <td>...</td>\n",
       "      <td>...</td>\n",
       "      <td>...</td>\n",
       "    </tr>\n",
       "    <tr>\n",
       "      <th>89181</th>\n",
       "      <td>fffcd0960ee309b5</td>\n",
       "      <td>0.157636</td>\n",
       "      <td>0.165630</td>\n",
       "      <td>0.140038</td>\n",
       "      <td>0.202403</td>\n",
       "      <td>0.139662</td>\n",
       "      <td>0.194631</td>\n",
       "    </tr>\n",
       "    <tr>\n",
       "      <th>89182</th>\n",
       "      <td>fffd7a9a6eb32c16</td>\n",
       "      <td>0.112765</td>\n",
       "      <td>0.103944</td>\n",
       "      <td>0.123674</td>\n",
       "      <td>0.252696</td>\n",
       "      <td>0.214323</td>\n",
       "      <td>0.192599</td>\n",
       "    </tr>\n",
       "    <tr>\n",
       "      <th>89183</th>\n",
       "      <td>fffda9e8d6fafa9e</td>\n",
       "      <td>0.143949</td>\n",
       "      <td>0.156045</td>\n",
       "      <td>0.166744</td>\n",
       "      <td>0.185235</td>\n",
       "      <td>0.188520</td>\n",
       "      <td>0.159507</td>\n",
       "    </tr>\n",
       "    <tr>\n",
       "      <th>89184</th>\n",
       "      <td>fffe8f1340a79fc2</td>\n",
       "      <td>0.173544</td>\n",
       "      <td>0.145454</td>\n",
       "      <td>0.147510</td>\n",
       "      <td>0.205386</td>\n",
       "      <td>0.152891</td>\n",
       "      <td>0.175215</td>\n",
       "    </tr>\n",
       "    <tr>\n",
       "      <th>89185</th>\n",
       "      <td>ffffce3fb183ee80</td>\n",
       "      <td>0.168885</td>\n",
       "      <td>0.103074</td>\n",
       "      <td>0.021712</td>\n",
       "      <td>0.027365</td>\n",
       "      <td>0.268428</td>\n",
       "      <td>0.410536</td>\n",
       "    </tr>\n",
       "  </tbody>\n",
       "</table>\n",
       "<p>89186 rows × 7 columns</p>\n",
       "</div>"
      ],
      "text/plain": [
       "                     id     toxic  severe_toxic   obscene    threat    insult  \\\n",
       "0      00001cee341fdb12  0.695320      0.103010  0.089683  0.080381  0.010491   \n",
       "1      0000247867823ef7  0.146437      0.173210  0.154187  0.201381  0.172166   \n",
       "2      00013b17ad220c46  0.152223      0.166386  0.152349  0.196146  0.156782   \n",
       "3      00017563c3f7919a  0.182831      0.199159  0.102165  0.136930  0.235032   \n",
       "4      00017695ad8997eb  0.143533      0.153496  0.156877  0.197888  0.140230   \n",
       "...                 ...       ...           ...       ...       ...       ...   \n",
       "89181  fffcd0960ee309b5  0.157636      0.165630  0.140038  0.202403  0.139662   \n",
       "89182  fffd7a9a6eb32c16  0.112765      0.103944  0.123674  0.252696  0.214323   \n",
       "89183  fffda9e8d6fafa9e  0.143949      0.156045  0.166744  0.185235  0.188520   \n",
       "89184  fffe8f1340a79fc2  0.173544      0.145454  0.147510  0.205386  0.152891   \n",
       "89185  ffffce3fb183ee80  0.168885      0.103074  0.021712  0.027365  0.268428   \n",
       "\n",
       "       identity_hate  \n",
       "0           0.021115  \n",
       "1           0.152619  \n",
       "2           0.176114  \n",
       "3           0.143883  \n",
       "4           0.207975  \n",
       "...              ...  \n",
       "89181       0.194631  \n",
       "89182       0.192599  \n",
       "89183       0.159507  \n",
       "89184       0.175215  \n",
       "89185       0.410536  \n",
       "\n",
       "[89186 rows x 7 columns]"
      ]
     },
     "execution_count": 81,
     "metadata": {},
     "output_type": "execute_result"
    }
   ],
   "source": [
    "submission"
   ]
  },
  {
   "cell_type": "code",
   "execution_count": 83,
   "metadata": {},
   "outputs": [],
   "source": [
    "submission.to_csv('submission.csv', sep = ',', index = False)"
   ]
  },
  {
   "cell_type": "code",
   "execution_count": 92,
   "metadata": {},
   "outputs": [
    {
     "data": {
      "text/plain": [
       "0.999999936634"
      ]
     },
     "execution_count": 92,
     "metadata": {},
     "output_type": "execute_result"
    }
   ],
   "source": [
    "4.9185276e-01 + 1.5550743e-02 + 3.0214533e-01 + 9.0294634e-05 +       1.7785312e-01+ 1.2507689e-02"
   ]
  },
  {
   "cell_type": "code",
   "execution_count": null,
   "metadata": {},
   "outputs": [],
   "source": []
  },
  {
   "cell_type": "code",
   "execution_count": null,
   "metadata": {},
   "outputs": [],
   "source": []
  },
  {
   "cell_type": "code",
   "execution_count": null,
   "metadata": {},
   "outputs": [],
   "source": []
  },
  {
   "cell_type": "code",
   "execution_count": null,
   "metadata": {},
   "outputs": [],
   "source": []
  }
 ],
 "metadata": {
  "kernelspec": {
   "display_name": "Python 3",
   "language": "python",
   "name": "python3"
  },
  "language_info": {
   "codemirror_mode": {
    "name": "ipython",
    "version": 3
   },
   "file_extension": ".py",
   "mimetype": "text/x-python",
   "name": "python",
   "nbconvert_exporter": "python",
   "pygments_lexer": "ipython3",
   "version": "3.7.6"
  }
 },
 "nbformat": 4,
 "nbformat_minor": 4
}
